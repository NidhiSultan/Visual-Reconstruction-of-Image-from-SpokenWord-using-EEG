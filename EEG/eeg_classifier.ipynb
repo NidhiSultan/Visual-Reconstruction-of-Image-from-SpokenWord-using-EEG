{
 "cells": [
  {
   "cell_type": "code",
   "execution_count": 1,
   "metadata": {},
   "outputs": [],
   "source": [
    "import pandas as pd\n",
    "import numpy as np\n",
    "import mne\n",
    "import re\n",
    "import matplotlib.pyplot as plt\n",
    "\n",
    "import torch\n",
    "import torch.nn as nn\n",
    "import torch.nn.functional as F\n",
    "import torch.optim as opt\n",
    "from torch.utils.data import Dataset, DataLoader, TensorDataset\n",
    "from torchsummary import summary\n",
    "import torch.autograd as autograd"
   ]
  },
  {
   "cell_type": "code",
   "execution_count": 2,
   "metadata": {},
   "outputs": [],
   "source": [
    "DATA_PATH = '../data/event_data.csv'\n",
    "MFF_DIR = '../data/'\n",
    "STIM_CHANNEL_NAMES = ['101' + str(i) for i in range(10)]\n",
    "EEG_CHANNEL_NAMES = ['E'+ str(i) for i in range(1,33)]\n",
    "\n",
    "EVENT_LENGTHS = [160] + [200]*9\n",
    "NUMPY_X_FNAME, NUMPY_Y_FNAME = MFF_DIR + 'X_small.npy',MFF_DIR + 'y_small.npy'"
   ]
  },
  {
   "cell_type": "code",
   "execution_count": 3,
   "metadata": {},
   "outputs": [],
   "source": [
    "######### NO NEED TO RUN ###################"
   ]
  },
  {
   "cell_type": "code",
   "execution_count": 4,
   "metadata": {},
   "outputs": [],
   "source": [
    "class EEGDataset(Dataset):\n",
    "    def __init__(self):\n",
    "        self.df = pd.read_csv(DATA_PATH)\n",
    "        self.current_file = None\n",
    "        self.current_raw = None\n",
    "        self.current_events = None\n",
    "        \n",
    "    def __len__(self):\n",
    "        return len(self.df)\n",
    "    \n",
    "    def __getitem__(self, idx):\n",
    "        fname = self.df.iloc[idx]['fname']\n",
    "        if self.current_file != fname or self.current_file is None:\n",
    "            self.current_file = fname\n",
    "            self.current_raw = mne.io.read_raw_egi(MFF_DIR + fname,verbose=False,preload=True).pick_channels(\n",
    "                STIM_CHANNEL_NAMES+EEG_CHANNEL_NAMES)\n",
    "            self.current_events = mne.find_events(self.current_raw,verbose=False)\n",
    "        s_time = self.df.iloc[idx]['s_time']/1000.0\n",
    "        if idx < 160:\n",
    "            fake_idx = idx\n",
    "        else:\n",
    "            fake_idx = (idx - 160)%200 \n",
    "        epoch = mne.Epochs(\n",
    "            self.current_raw.copy().pick_types(eeg=True),\n",
    "            self.current_events[fake_idx].reshape(1,-1),tmin=s_time,tmax=s_time+4.0-1.0/self.current_raw.info['sfreq'],\n",
    "            baseline=None,verbose=False,preload=True)\n",
    "        try:\n",
    "            X = epoch.load_data().filter(l_freq = 0, h_freq = 30).resample(100).get_data()\n",
    "        except ValueError:\n",
    "            X = np.array([]).reshape(0,32,400)\n",
    "        y = self.df.iloc[idx]['label']\n",
    "        \n",
    "        return X, y"
   ]
  },
  {
   "cell_type": "code",
   "execution_count": 5,
   "metadata": {},
   "outputs": [],
   "source": [
    "eeg_dataset = EEGDataset()"
   ]
  },
  {
   "cell_type": "code",
   "execution_count": 6,
   "metadata": {},
   "outputs": [
    {
     "name": "stdout",
     "output_type": "stream",
     "text": [
      "0\n",
      "100\n",
      "200\n",
      "300\n",
      "400\n",
      "500\n",
      "600\n",
      "700\n",
      "800\n",
      "900\n",
      "1000\n",
      "1100\n",
      "1200\n",
      "1300\n",
      "1400\n",
      "1500\n",
      "1600\n",
      "1700\n",
      "1800\n",
      "1900\n"
     ]
    }
   ],
   "source": [
    "X = []\n",
    "y = []\n",
    "i = 0\n",
    "for xi,yi in eeg_dataset:\n",
    "    if i % 100 == 0:\n",
    "        print(i)\n",
    "    if xi.shape == (1,32,400):\n",
    "        X.append(xi)\n",
    "        y.append(yi)\n",
    "    i += 1"
   ]
  },
  {
   "cell_type": "code",
   "execution_count": 7,
   "metadata": {},
   "outputs": [
    {
     "name": "stdout",
     "output_type": "stream",
     "text": [
      "(967, 32, 400) (967,)\n"
     ]
    }
   ],
   "source": [
    "X_np = np.concatenate(X, axis=0)\n",
    "y_np = np.array(y)\n",
    "print(X_np.shape,y_np.shape)"
   ]
  },
  {
   "cell_type": "code",
   "execution_count": 8,
   "metadata": {},
   "outputs": [],
   "source": [
    "np.save(NUMPY_X_FNAME,X_np)\n",
    "np.save(NUMPY_Y_FNAME,y_np)"
   ]
  },
  {
   "cell_type": "code",
   "execution_count": 9,
   "metadata": {},
   "outputs": [],
   "source": [
    "#####################################"
   ]
  },
  {
   "cell_type": "code",
   "execution_count": 6,
   "metadata": {},
   "outputs": [],
   "source": [
    "X_np = np.load(NUMPY_X_FNAME)\n",
    "y_np = np.load(NUMPY_Y_FNAME)"
   ]
  },
  {
   "cell_type": "code",
   "execution_count": 8,
   "metadata": {},
   "outputs": [],
   "source": [
    "X_torch = torch.Tensor(X_np)\n",
    "y_torch = torch.Tensor(y_np)\n",
    "dset = TensorDataset(X_torch[:10],y_torch[:10]) # create your datset\n",
    "dloader = DataLoader(dset,shuffle=True,batch_size=32) # create your dataloader"
   ]
  },
  {
   "cell_type": "code",
   "execution_count": 25,
   "metadata": {},
   "outputs": [
    {
     "name": "stdout",
     "output_type": "stream",
     "text": [
      "torch.Size([967, 32, 400]) torch.Size([967])\n",
      "torch.Size([32, 400])\n"
     ]
    }
   ],
   "source": [
    "print(X_torch.shape,y_torch.shape)\n",
    "print(X_torch[0].shape)"
   ]
  },
  {
   "cell_type": "code",
   "execution_count": 43,
   "metadata": {},
   "outputs": [],
   "source": [
    "class MultiLSTM(nn.Module):\n",
    "    def __init__(self,n_i):\n",
    "        super(MultiLSTM,self).__init__()\n",
    "        self.lstms  = [None]*n_i\n",
    "        for i in range(n_i):\n",
    "            self.lstms[i] = nn.LSTM(1, n_i, 1, bidirectional=False)\n",
    "        \n",
    "    def forward(self,x):\n",
    "        print(x.shape)\n",
    "        y = []\n",
    "        # (N,n_i,400)\n",
    "        for i,lstm in enumerate(self.lstms):\n",
    "            x_ = x[:,i,:]\n",
    "            print(x_.shape)\n",
    "            y.append(lstm(x[:,i,:])[1][0])\n",
    "        y = torch.stack(y, dim=1)\n",
    "        \n",
    "        return y"
   ]
  },
  {
   "cell_type": "code",
   "execution_count": 44,
   "metadata": {},
   "outputs": [],
   "source": [
    "mlt = MultiLSTM(32)"
   ]
  },
  {
   "cell_type": "code",
   "execution_count": 36,
   "metadata": {},
   "outputs": [],
   "source": [
    "# build model\n",
    "class EEGEncoder(nn.Module):\n",
    "    def __init__(self, n_i):\n",
    "        super(EEGEncoder,self).__init__();\n",
    "        self.n_i = n_i\n",
    "        self.multilstm = MultiLSTM(n_i)\n",
    "        #self.lstm1 = nn.LSTM(1, n_i, 1, bidirectional=False)\n",
    "        \n",
    "        self.linear2 = nn.Linear(32*n_i, n_i)\n",
    "        self.linear3 = nn.Linear(n_i,n_i)\n",
    "        self.linear4 = nn.Linear(n_i,10)\n",
    "        self.softmax = nn.Softmax(dim=1)\n",
    "        \n",
    "    def forward(self, x):\n",
    "        print(x.shape)\n",
    "        x = self.multilstm(x)\n",
    "        enc = self.linear2(x)\n",
    "        x = F.relu(enc)\n",
    "        x = self.linear3(x)\n",
    "        x = self.linear4(x)\n",
    "        x = self.softmax(x)\n",
    "        \n",
    "        return x"
   ]
  },
  {
   "cell_type": "code",
   "execution_count": null,
   "metadata": {},
   "outputs": [],
   "source": [
    "# Testing dimensions\n",
    "eeg_classifier = EEGEncoder(32)\n",
    "inp,l = torch.randn(400,1,32),torch.randn(1)\n",
    "out = eeg_classifier(inp)\n",
    "print(out.shape, inp.shape)"
   ]
  },
  {
   "cell_type": "code",
   "execution_count": null,
   "metadata": {},
   "outputs": [],
   "source": [
    "criterion = nn.CrossEntropyLoss()\n",
    "optimizer = opt.Adam(eeg_classifier.parameters(),lr=0.001)"
   ]
  },
  {
   "cell_type": "code",
   "execution_count": null,
   "metadata": {},
   "outputs": [],
   "source": [
    "losses = []\n",
    "for epoch in range(5):\n",
    "    running_loss = 0.0\n",
    "    \n",
    "    for i, data in enumerate(dloader,0):\n",
    "        inp,lab = data\n",
    "        optimizer.zero_grad()\n",
    "        \n",
    "        out = eeg_classifier(inp)\n",
    "        out = out.reshape(-1,10)\n",
    "                        \n",
    "        loss = criterion(out.float(),lab.long())\n",
    "        loss.backward()\n",
    "        optimizer.step()\n",
    "        \n",
    "        running_loss += loss.item()\n",
    "        if i % 1 == 0:\n",
    "            print('[{}/{}]: loss = {}'.format(epoch+1,i+1,running_loss))\n",
    "            losses.append(running_loss)\n",
    "            running_loss = 0.0\n",
    "            \n",
    "print('Finished training')"
   ]
  },
  {
   "cell_type": "code",
   "execution_count": 22,
   "metadata": {},
   "outputs": [],
   "source": [
    "torch.save(eeg_classifier.state_dict(), '../ckpt/save1.pth')"
   ]
  },
  {
   "cell_type": "code",
   "execution_count": 43,
   "metadata": {},
   "outputs": [
    {
     "name": "stdout",
     "output_type": "stream",
     "text": [
      "tensor([[6]]) tensor([5.])\n",
      "tensor([[6]]) tensor([6.])\n",
      "tensor([[6]]) tensor([0.])\n",
      "tensor([[6]]) tensor([9.])\n",
      "tensor([[6]]) tensor([7.])\n",
      "tensor([[6]]) tensor([6.])\n",
      "tensor([[6]]) tensor([9.])\n",
      "tensor([[6]]) tensor([2.])\n",
      "tensor([[6]]) tensor([2.])\n",
      "tensor([[6]]) tensor([0.])\n"
     ]
    }
   ],
   "source": [
    "for i, data in enumerate(dloader,0):\n",
    "        inp,lab = data\n",
    "        out = eeg_classifier(inp);\n",
    "        print(out.argmax(dim=2),lab)"
   ]
  }
 ],
 "metadata": {
  "kernelspec": {
   "display_name": "Python 3",
   "language": "python",
   "name": "python3"
  },
  "language_info": {
   "codemirror_mode": {
    "name": "ipython",
    "version": 3
   },
   "file_extension": ".py",
   "mimetype": "text/x-python",
   "name": "python",
   "nbconvert_exporter": "python",
   "pygments_lexer": "ipython3",
   "version": "3.7.7"
  }
 },
 "nbformat": 4,
 "nbformat_minor": 2
}
